{
 "cells": [
  {
   "cell_type": "markdown",
   "metadata": {},
   "source": [
    "# Семинар 4\n",
    "\n",
    "## Что мы сегодня узнаем?\n",
    "\n",
    "* Как работает KMeans (K-средних)\n",
    "* Как работает кластеризация DBSCAN\n",
    "* Роль нормализации данных\n",
    "\n",
    "#### А что вообще почитать про кластеризацию?\n",
    "\n",
    "- вот [этот пост](https://dashee87.github.io/data%20science/general/Clustering-with-Scikit-with-GIFs/) очень хорош, гифки позаимствованы оттуда."
   ]
  },
  {
   "cell_type": "markdown",
   "metadata": {},
   "source": [
    "# Какие бывают кластеры?\n",
    "\n",
    "Код ниже генерирует кластеры различной формы и выводит их на экран"
   ]
  },
  {
   "cell_type": "code",
   "execution_count": null,
   "metadata": {},
   "outputs": [],
   "source": [
    "%pylab inline\n",
    "\n",
    "# именно вот эта волшебная строчка делает наши графики\n",
    "# довольно эстетичными с точки зрения ценителя хорошего дизайна\n",
    "plt.style.use('ggplot')\n",
    "\n",
    "from sklearn.datasets import make_blobs\n",
    "from sklearn.datasets import make_circles\n",
    "\n",
    "# эта строчка просто задает размер графика\n",
    "plt.figure(figsize=(16, 5))\n",
    "\n",
    "# тут мы генерируем облакоподобные кластера\n",
    "X, y = make_blobs(n_samples=1500, centers=3, random_state=170)\n",
    "\n",
    "# тут мы говорим, что хотим вывести 1-й график в 1-й строчке, в которой всего 3 графика\n",
    "plt.subplot(131)\n",
    "# и выводим его\n",
    "plt.scatter(X[:, 0], X[:, 1], edgecolors='face')\n",
    "plt.title(u\"Круглые кластеры\", fontsize=15)\n",
    "\n",
    "# тут происходит страшная матричная магия, чтобы из круглях кластеров получить вытянутые\n",
    "transformation = [[0.9, -0.9], [-9.9, 1.9]] # матрица преобразования\n",
    "X_long = np.dot(X, transformation) # умножим на нее, чтобы растянуть кучки\n",
    "\n",
    "# тут мы говорим, что хотим вывести 2-й график в 1-й строчке, в которой всего 3 графика\n",
    "plt.subplot(132)\n",
    "plt.scatter(X_long[:, 0], X_long[:, 1], edgecolors='face')\n",
    "plt.title(u\"Вытянутые кластеры\", fontsize=15)\n",
    "\n",
    "# генерируем вложенные кружки\n",
    "X_circles, y = make_circles(n_samples=1500, factor=0.5, noise=0.05)\n",
    "\n",
    "# тут мы говорим, что хотим вывести 3-й график в 1-й строчке, в которой всего 3 графика\n",
    "plt.subplot(133)\n",
    "plt.scatter(X_circles[:, 0], X_circles[:, 1], edgecolors='face')\n",
    "plt.title(u\"Кластеры сложной структуры\", fontsize=15)\n",
    "plt.show()"
   ]
  },
  {
   "cell_type": "markdown",
   "metadata": {},
   "source": [
    "# Task 0\n",
    "\n",
    "Сейчас вы узнаете как писать нельзя. Но, напишите, пожалуйста, функцию, которая генерирует кластер вашей любимой формы (название функции не менять, пожалуйста).\n",
    "<img src='crab.jpg' width=500>"
   ]
  },
  {
   "cell_type": "code",
   "execution_count": null,
   "metadata": {},
   "outputs": [],
   "source": [
    "def верни_мои_любимые_кластера(сколько_точек, сколько_кластеров):\n",
    "    # твой код тут # (つ▀¯▀)つ\n",
    "    return X,y"
   ]
  },
  {
   "cell_type": "code",
   "execution_count": null,
   "metadata": {},
   "outputs": [],
   "source": [
    "# check\n",
    "X, y = верни_мои_любимые_кластера(сколько_точек=600, сколько_кластеров=2)\n",
    "plt.scatter(X[:,0], X[:,1], c=y, cmap='Spectral')\n",
    "plt.title(\"Держи, пожалуйста,\\nето твои любимые кластера, дорогуша\")\n",
    "plt.show()"
   ]
  },
  {
   "cell_type": "markdown",
   "metadata": {},
   "source": [
    "# Алгоритм k-means для задачи кластеризации\n",
    "\n",
    "<img src=\"http://dendroid.sk/wp-content/uploads/2013/01/kmeansimg-scaled1000.jpg\" width=400>\n",
    "\n",
    "Алгоритм k-means применяется для задачи кластеризации. Напомню его основные шаги.\n",
    "\n",
    "Пусть у нас имеется N точек на плоскости ${(x_1,y_1),...,(x_N,y_N)}$\n",
    "Допустим мы хотим разбить их на k=3 кластера.\n",
    "1. Выбираем k=3 случайные точки из этого множества. Говорим, что они являются теперь центрами наших кластеров.\n",
    "2. Для каждой из оставшихся точек смотрим, к какому из центров она ближе и определяем её в этот кластер.\n",
    "3. У нас получилось разбить точки на 3 кластера. Естественно это не оптимальное разбиение. Найдём новые центры кластеров. Например, если точки ${(x_{i_1}, y_{i_1}),...,(x_{i_n}, y_{i_n})}$ попали в один кластер, то их новый центр будет имеет координаты:\n",
    "$$x_M=\\frac{x_{i_1}+...+x_{i_n}}{n}$$\n",
    "$$y_M=\\frac{y_{i_1}+...+y_{i_n}}{n}$$\n",
    "4. Переходим к шагу 2 и продолжаем до тех пор, пока кластеры не перестанут меняться. Т.е. пока полная сумма расстояний от каждой точки до центра ее кластера не будет похожа на константу (с наперед заданной точностью).\n",
    "\n",
    "Если у вас есть интернет, то хорошо бы посмотреть визуализацию:\n",
    "[Ссылка на визуализацию](https://www.naftaliharris.com/blog/visualizing-k-means-clustering/)\n",
    "\n",
    "<img src=\"kmeans.gif\" width=600>\n",
    "Анимация показывает как меняется полная сумма расстояний от каждой точки до центра ее кластера. Видно, что в конце эта сумма остается неизменной. На этом и заканчивается кластеризация."
   ]
  },
  {
   "cell_type": "markdown",
   "metadata": {},
   "source": [
    "# Task 1\n",
    "\n",
    "Реализуйте функцию, которая считает сумму расстояний от всех входных точек $X = \\{x_1, x_2, ... x_n\\}$ до центров их кластеров $centroids = \\{c_1, c_2, ... c_n\\}$.\n",
    "\n",
    "Здесь \n",
    "* $c_i, x_i$ - это вектора размера $d$;\n",
    "\n",
    "Функция должна считать следующее:\n",
    "\n",
    "$$\\Large\\sum_{i=0}^{i=n} distance(c_i, x_i)$$\n",
    "\n",
    "В качестве функции расстояния между точкой $x_i$ и центром ее кластера $c_i$ возьмите MSE:\n",
    "\n",
    "$$\\Large distance(c_i, x_i) = \\sum_{k=0}^{k=d} (c_{ik}-x_{ik})^2$$"
   ]
  },
  {
   "cell_type": "markdown",
   "metadata": {},
   "source": [
    "**Напоминание:** матрицы одинакового размера можно вычитать друг из друга, при этом вычитание будет происходить поэлементно. Пример ниже."
   ]
  },
  {
   "cell_type": "code",
   "execution_count": null,
   "metadata": {},
   "outputs": [],
   "source": [
    "p = np.diag([1,2,3,4])\n",
    "p"
   ]
  },
  {
   "cell_type": "code",
   "execution_count": null,
   "metadata": {},
   "outputs": [],
   "source": [
    "np.zeros((4,4))-p"
   ]
  },
  {
   "cell_type": "code",
   "execution_count": null,
   "metadata": {},
   "outputs": [],
   "source": [
    "def total_inner_distance(X, centroids):\n",
    "    \"\"\"\n",
    "    X: np.array; shape=[n, d]\n",
    "    centroids: np.array; shape=[n, d]\n",
    "    return: одно число, пожалуйста!\n",
    "    \"\"\"\n",
    "    # твой код тут # (つ▀¯▀)つ"
   ]
  },
  {
   "cell_type": "code",
   "execution_count": null,
   "metadata": {},
   "outputs": [],
   "source": [
    "# базовая проверка\n",
    "assert np.isreal(total_inner_distance(np.random.rand(3,4),\\\n",
    "                                      np.random.rand(3,4))),'Вы что-то не то вернули из функции'"
   ]
  },
  {
   "cell_type": "markdown",
   "metadata": {},
   "source": [
    "# Task 2\n",
    "\n",
    "Реализуйте KMeans"
   ]
  },
  {
   "cell_type": "code",
   "execution_count": null,
   "metadata": {},
   "outputs": [],
   "source": [
    "# Вспомогательная функция для визуализации\n",
    "def show_me(points, colors=None, centroids=None, colorbar=False):\n",
    "    points_x = points[:,0]\n",
    "    points_y = points[:,1]\n",
    "    plt.scatter(x=points_x, y=points_y, c=colors, cmap='summer')\n",
    "    if centroids is not None:\n",
    "        for i,c in enumerate(centroids):\n",
    "            plt.scatter(c[0], c[1], label=\"centroid {}\".format(i), marker='X', s=100)\n",
    "        plt.legend()\n",
    "    if colorbar:\n",
    "        plt.colorbar()\n",
    "    plt.show()"
   ]
  },
  {
   "cell_type": "code",
   "execution_count": null,
   "metadata": {},
   "outputs": [],
   "source": [
    "# Код алгоритма\n",
    "def k_means(points: np.array, num_clusters: int, max_iter: int = 10, epsilon:float = 0.00001):\n",
    "    \"\"\"\n",
    "    points: список из пар координат точек\n",
    "    num_clusters: число кластеров, на которое необходимо поделить\n",
    "\n",
    "    return: номера кластеров и их центры\n",
    "    \"\"\"\n",
    "    # Выбираем начальные центры кластеров (просто первые num_clusters точек)\n",
    "    centroids = points[:num_clusters]\n",
    "    \n",
    "    # В качестве результата будет массив с номерами кластеров для каждой точки\n",
    "    num_points = len(points)\n",
    "    result = [-1] * num_points\n",
    "    \n",
    "    # Выведем на экран стартовую ситуацию\n",
    "    print(\"Входные данные\")\n",
    "    show_me(points)\n",
    "    \n",
    "    # Работаем пока не исчерпаем максимальное количество итераций\n",
    "    # или пока сумма расстояний до центра кластера не перестанет меняться больше, чем не epsilon\n",
    "    diff_inner_distance = epsilon+1 # начальная разница больше epsilon\n",
    "    total_inner_dist_val = 0\n",
    "    inner_distances = []\n",
    "    it_num = 0\n",
    "\n",
    "    while (it_num<max_iter) and (diff_inner_distance>=epsilon):\n",
    "        \n",
    "        # Определяем каждую точку к кластеру:\n",
    "        # для каждой точки в цикле \n",
    "        # 1) посчитайте ее расстояние до каждого из центроидов (используй `np.linalg.norm()`)\n",
    "        # 2) добавьте в result номер центроида,\n",
    "        #    который соответствует минимальному расстоянию\n",
    "        #    до этой точки (`np.argmin()` хорошая функция)\n",
    "        # \n",
    "        for i,point in enumerate(points):\n",
    "            # твой код тут # (つ▀¯▀)つ\n",
    "\n",
    "        \n",
    "        # Меняем центры кластеров:\n",
    "        # Нужно заменить старые центроиды в centroids на новые.\n",
    "        # Каждый новый центроид получается как\n",
    "        # средний вектор для всех векторов-точек в соответствующем кластере\n",
    "        result = np.array(result)\n",
    "        for i in range(num_clusters):\n",
    "            centroids[i] = # твой код тут # (つ▀¯▀)つ\n",
    "\n",
    "        \n",
    "        # Посчитаем внутрикластерные расстояния\n",
    "        # Мы уже написали для этого функцию total_inner_distance, осталось ее применить\n",
    "        new_total_inner_dist_val = # твой код тут # (つ▀¯▀)つ\n",
    "        \n",
    "        diff_inner_distance =  np.abs(total_inner_dist_val - new_total_inner_dist_val)\n",
    "        total_inner_dist_val = new_total_inner_dist_val\n",
    "        \n",
    "        # Хотим построить графичек, поэтому накапливаем тут значения\n",
    "        inner_distances.append(new_total_inner_dist_val)\n",
    "        \n",
    "        # Выведем то, что у нас получилось\n",
    "        it_num += 1\n",
    "        print(\"Итерация №{}\".format(it_num))\n",
    "        show_me(points, colors=result, centroids=centroids)\n",
    "        \n",
    "    return result, centroids, inner_distances"
   ]
  },
  {
   "cell_type": "code",
   "execution_count": null,
   "metadata": {},
   "outputs": [],
   "source": [
    "result, centroids, inner_distances = k_means(X, num_clusters=2, epsilon=1e-10)"
   ]
  },
  {
   "cell_type": "code",
   "execution_count": null,
   "metadata": {},
   "outputs": [],
   "source": [
    "plt.plot(range(len(inner_distances)), inner_distances)\n",
    "plt.title(\"Полные внутрикластерные расстояния\\nв зависимости от номера итерации\")\n",
    "plt.show()"
   ]
  },
  {
   "cell_type": "markdown",
   "metadata": {},
   "source": [
    "**Плюсы**:\n",
    "* простой и понятный\n",
    "\n",
    "**Минусы**:\n",
    "* нужно знать K\n",
    "* слишком простая модель, кластер = выпуклая околокруглая штука\n",
    "* если плохо выбрать начальные центры, может сойтись к плохому результату\n",
    "\n",
    "Поэтому обычно K-Means запускают несколько раз и выбирают лучший результат."
   ]
  },
  {
   "cell_type": "markdown",
   "metadata": {},
   "source": [
    "---\n",
    "\n",
    "# DBSCAN (Density-based spatial clustering of applications with noise)\n",
    "\n",
    "Кратко о том, как работает DBSCAN:\n",
    "\n",
    "<img src='dbscan1.gif'>\n",
    "\n",
    "Гиперпараметры:\n",
    "* $numPts -$ минимальное количество точек в соседстве, чтобы добавить их в кластер\n",
    "* $\\epsilon -$ максимальное расстояние до точки, чтобы считать ее соседом\n",
    "\n",
    "**Как выглядит кластеризация?**\n",
    "\n",
    "<img src='dbscan2.gif'>\n",
    "\n",
    "**Плюсы**:\n",
    "* Не надо знать К!\n",
    "* Может определять даже кластеры со сложной структурой\n",
    "* Умеет убирать шум!\n",
    "\n",
    "**Минусы**:\n",
    "* Скорее всего не сможет корректно выделить кластеры, имеющие разную плотность\n",
    "* Надо подбирать $\\epsilon$\n",
    "* Надо подбирать $numPts$"
   ]
  },
  {
   "cell_type": "markdown",
   "metadata": {},
   "source": [
    "# Масштабирование данных\n",
    "\n",
    "$${\\displaystyle z\\_score ={\\frac {x-{\\bar {x}}}{\\sigma }}} $$\n",
    "\n",
    "* $\\bar x$ -- среднее значение вектора $x$ (это число одно) \n",
    "* $\\sigma$ -- стандартное отклонение значений вектора $x$ от среднего (это тоже одно число)\n",
    "* $x$ -- это вектор, т.е. это массив чисел.\n",
    "* $x_i$ -- элемент вектора $x$, т.е. одно число.\n",
    "\n",
    "$${\\displaystyle \\sigma ={\\sqrt {{\\frac {1}{n}}\\sum _{i=1}^{n}\\left(x_{i}-{\\bar {x}}\\right)^{2}}};}$$\n",
    "\n",
    "Если вместо $x$ мы запишем соответствующие $z\\_score$, то среднее значение будет равно 0, а все значения $z_score$ будут стандартизированы, т.к. значение $z\\_score_i$ - это количество стандартных отклонений от среднего для данного исходного значения $x_i$\n",
    "\n",
    "<img src=\"z_score.png\" width=500>\n",
    "\n",
    "**Зачем это делать?**\n",
    "\n",
    "Если произвести масштабирование данных, то признаки, сильно отличающиеся по абсолютным значениям, будут соизмеримы, а значит, мы сможем адекватно измерять расстояния между точками. А ведь именно на этом основаны рассматриваемые методы кластеризации."
   ]
  },
  {
   "cell_type": "markdown",
   "metadata": {},
   "source": [
    "# Task 3\n",
    "\n",
    "* Отмасштабируйте данные с помощью `StandardScaler`\n",
    "\n",
    "* Подберите параметры DBSCAN так, чтобы ваши любимые кластера (из задания 1) разделялись.\n",
    "\n",
    "* Если у вас скучноватые любимые кластера (а именно, `blobs`), сделайте задание, используя кластера:\n",
    "```python\n",
    "    X, y = make_moons(n_samples=сколько_точек, random_state=170, noise=0.06)\n",
    "```\n"
   ]
  },
  {
   "cell_type": "code",
   "execution_count": null,
   "metadata": {},
   "outputs": [],
   "source": [
    "from sklearn.cluster import DBSCAN\n",
    "from sklearn.preprocessing import StandardScaler"
   ]
  },
  {
   "cell_type": "code",
   "execution_count": null,
   "metadata": {},
   "outputs": [],
   "source": [
    "X_scaled = # твой код тут # (つ▀¯▀)つ"
   ]
  },
  {
   "cell_type": "code",
   "execution_count": null,
   "metadata": {},
   "outputs": [],
   "source": [
    "# Solution\n",
    "from sklearn.preprocessing import StandardScaler\n",
    "scaler = StandardScaler()\n",
    "X_scaled = scaler.fit_transform(X)"
   ]
  },
  {
   "cell_type": "markdown",
   "metadata": {},
   "source": [
    "Нужно подобрать параметры алгоритма, чтобы кластеры разделялись"
   ]
  },
  {
   "cell_type": "code",
   "execution_count": null,
   "metadata": {},
   "outputs": [],
   "source": [
    "dbscan = DBSCAN(eps=?, min_samples=?)\n",
    "predictions = dbscan.fit_predict(X_scaled)\n",
    "show_me(points=X, colors=predictions, colorbar=True)"
   ]
  },
  {
   "cell_type": "code",
   "execution_count": null,
   "metadata": {},
   "outputs": [],
   "source": [
    "# Solution\n",
    "dbscan = DBSCAN(eps=0.3, min_samples=2)\n",
    "predictions = dbscan.fit_predict(X_scaled)\n",
    "show_me(points=X, colors=predictions, colorbar=True)"
   ]
  },
  {
   "cell_type": "markdown",
   "metadata": {},
   "source": [
    "# Task 4\n",
    "\n",
    "**Кластеризация картинки**\n",
    "\n",
    "Кластеризуйте картинку с помощью алгоритма KMeans;"
   ]
  },
  {
   "cell_type": "code",
   "execution_count": null,
   "metadata": {},
   "outputs": [],
   "source": [
    "from PIL import Image\n",
    "import urllib\n",
    "\n",
    "def load_image(infilename):\n",
    "    if infilename.startswith('https'):\n",
    "        f = urllib.request.urlopen(infilename)\n",
    "        img = Image.open(f)\n",
    "    else:\n",
    "        img = Image.open(infilename)\n",
    "    img.load()\n",
    "    data = np.asarray(img, dtype=\"float32\")\n",
    "    return data\n",
    "\n",
    "def save_image(img,outfilename):\n",
    "    img.save(outfilename)\n",
    "    \n",
    "\n",
    "# url=\"https://ichef.bbci.co.uk/childrens-responsive-ichef-ck/400xn/amz/cbeebies/teletubbies-map-hero.jpg\"\n",
    "# pic = load_image(url)\n",
    "pic = load_image(\"cat_photo.png\")\n",
    "print(\"image shape: \", pic.shape)\n",
    "plt.figure(figsize=(12,10))\n",
    "plt.imshow(pic[:,:,1])\n",
    "plt.grid(False)\n",
    "plt.show()"
   ]
  },
  {
   "cell_type": "code",
   "execution_count": null,
   "metadata": {},
   "outputs": [],
   "source": [
    "pic.shape"
   ]
  },
  {
   "cell_type": "code",
   "execution_count": null,
   "metadata": {},
   "outputs": [],
   "source": [
    "from sklearn.cluster import KMeans"
   ]
  },
  {
   "cell_type": "markdown",
   "metadata": {},
   "source": [
    "Воспользуйтесь операцией `pic.reshape()` чтобы изменить размеры картики так, чтобы получилась 2-мерная матрица\n",
    "каждая строка которой -- это один пиксель картинки, а количество столбцов -- это количество каналов в картинке (RGB, например, имеет 3 канала)."
   ]
  },
  {
   "cell_type": "code",
   "execution_count": null,
   "metadata": {},
   "outputs": [],
   "source": [
    "X_input = pic.reshape(# твой код тут # (つ▀¯▀)つ)"
   ]
  },
  {
   "cell_type": "markdown",
   "metadata": {},
   "source": [
    "Кластеризуйте матрицу `X_input`, количество цветов выберите не большим (например, 6)"
   ]
  },
  {
   "cell_type": "code",
   "execution_count": null,
   "metadata": {},
   "outputs": [],
   "source": [
    "labels = # твой код тут # (つ▀¯▀)つ"
   ]
  },
  {
   "cell_type": "markdown",
   "metadata": {},
   "source": [
    "С помощью той же функции `reshape` переведите полученные значения `labels` в размерность исходной картинки"
   ]
  },
  {
   "cell_type": "code",
   "execution_count": null,
   "metadata": {},
   "outputs": [],
   "source": [
    "pic_clustered = # твой код тут # (つ▀¯▀)つ"
   ]
  },
  {
   "cell_type": "code",
   "execution_count": null,
   "metadata": {},
   "outputs": [],
   "source": [
    "plt.figure(figsize=(12,10))\n",
    "plt.imshow(pic_clustered)\n",
    "plt.grid(False)"
   ]
  }
 ],
 "metadata": {
  "kernelspec": {
   "display_name": "Python 3",
   "language": "python",
   "name": "python3"
  },
  "language_info": {
   "codemirror_mode": {
    "name": "ipython",
    "version": 3
   },
   "file_extension": ".py",
   "mimetype": "text/x-python",
   "name": "python",
   "nbconvert_exporter": "python",
   "pygments_lexer": "ipython3",
   "version": "3.6.3"
  }
 },
 "nbformat": 4,
 "nbformat_minor": 2
}
