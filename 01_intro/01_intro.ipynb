{
 "cells": [
  {
   "cell_type": "markdown",
   "metadata": {},
   "source": [
    "# Что мы сегодня узнаем?\n",
    "\n",
    "- узнаем об основных классах задач в машинном обучении\n",
    "- разберем, какие инструменты используются для решения таких задач на практике\n",
    "- поработаем с numpy и pandas\n",
    "- попрактикуемся анализировать данные сами"
   ]
  },
  {
   "cell_type": "markdown",
   "metadata": {},
   "source": [
    "## 1 Постановки основных классов задач в машинном обучении\n",
    "\n",
    "* **Обучение с учителем (supervised learning)**\n",
    "    * Дана обучающая выборка $(X,y)$, требуется для новых $X$ предсказать $y$\n",
    "    * Примеры\n",
    "        * **Задачи классификации**\n",
    "            1. Автоматическое определение пола по фотографии\n",
    "            2. Генерация текста\n",
    "            3. Машинный перевод\n",
    "            \n",
    "        * **Задачи регрессии**\n",
    "            1. Синтез речи\n",
    "            2. Предсказание возраста человека по его поведению в интернете\n",
    "            3. Генерация котиков\n",
    "---\n",
    "\n",
    "* **Обучение без учителя (unsupervised learning)**\n",
    "    * Даны только $X$, чаще всего требуется как-то сгруппировать объекты на основе их схожести\n",
    "    * Примеры\n",
    "        * Выделить группы пользователей приложения\n",
    "---\n",
    "\n",
    "* **Частичное обучение (semi-supervised learning)**\n",
    "    * Даны $X$ и для некоторых из них даны $y$\n",
    "    * Примеры\n",
    "---\n",
    "\n",
    "* **Обучение с подкреплением (reinforcement learning)**\n",
    "    * Необходимо найти стратегию поведения, которая максимизирует выигрыш в долгосрочной перспективе в заданной среде.\n",
    "    * Примеры\n",
    "        * Обучение роботов передвижению предметов\n",
    "        * AlphaGo, AlphaGo Zero\n",
    "        * Прохождение игр агентами"
   ]
  },
  {
   "cell_type": "markdown",
   "metadata": {},
   "source": [
    "## 2. Введение в python, numpy, pandas, matplotlib"
   ]
  },
  {
   "cell_type": "code",
   "execution_count": 1,
   "metadata": {},
   "outputs": [],
   "source": [
    "# Так мы подключаем библиотеки, которые хотим использовать\n",
    "# После служебного слова `as` указываем как будем называть этот модуль в коде\n",
    "# Это как `import Мария as Маша` потому что Машу мы чаще называем Маша для краткости:)\n",
    "\n",
    "import pandas as pd # Для работы с табличками данных\n",
    "import numpy as np # Для работы с числовыми векторами и матрицами"
   ]
  },
  {
   "cell_type": "code",
   "execution_count": 2,
   "metadata": {},
   "outputs": [],
   "source": [
    "from matplotlib import pyplot as plt # Для рисования всего\n",
    "# Чтобы все рисовалось в ноутбуке, а не в отдельном окне\n",
    "%matplotlib inline"
   ]
  },
  {
   "cell_type": "markdown",
   "metadata": {},
   "source": [
    "# Numpy"
   ]
  },
  {
   "cell_type": "code",
   "execution_count": 5,
   "metadata": {},
   "outputs": [
    {
     "data": {
      "text/plain": [
       "array([[1, 2],\n",
       "       [3, 4],\n",
       "       [5, 6]])"
      ]
     },
     "execution_count": 5,
     "metadata": {},
     "output_type": "execute_result"
    }
   ],
   "source": [
    "vec = np.array([[1, 2], [3, 4], [5, 6]])\n",
    "vec"
   ]
  },
  {
   "cell_type": "code",
   "execution_count": 6,
   "metadata": {},
   "outputs": [
    {
     "data": {
      "text/plain": [
       "(3, 2)"
      ]
     },
     "execution_count": 6,
     "metadata": {},
     "output_type": "execute_result"
    }
   ],
   "source": [
    "# размер массива\n",
    "vec.shape"
   ]
  },
  {
   "cell_type": "markdown",
   "metadata": {},
   "source": [
    "**Индексация массива**"
   ]
  },
  {
   "cell_type": "code",
   "execution_count": 10,
   "metadata": {},
   "outputs": [
    {
     "data": {
      "text/plain": [
       "array([2, 4, 6])"
      ]
     },
     "execution_count": 10,
     "metadata": {},
     "output_type": "execute_result"
    }
   ],
   "source": [
    "vec[:, 1]"
   ]
  },
  {
   "cell_type": "code",
   "execution_count": 11,
   "metadata": {},
   "outputs": [
    {
     "data": {
      "text/plain": [
       "array([5, 6])"
      ]
     },
     "execution_count": 11,
     "metadata": {},
     "output_type": "execute_result"
    }
   ],
   "source": [
    "vec[2, :]"
   ]
  },
  {
   "cell_type": "code",
   "execution_count": 12,
   "metadata": {},
   "outputs": [
    {
     "data": {
      "text/plain": [
       "array([3])"
      ]
     },
     "execution_count": 12,
     "metadata": {},
     "output_type": "execute_result"
    }
   ],
   "source": [
    "vec[1:2, 0]"
   ]
  },
  {
   "cell_type": "markdown",
   "metadata": {},
   "source": [
    "**Индексация массива с помощью булевых выражений**"
   ]
  },
  {
   "cell_type": "code",
   "execution_count": 17,
   "metadata": {},
   "outputs": [
    {
     "data": {
      "text/plain": [
       "array([[False,  True],\n",
       "       [False,  True],\n",
       "       [False,  True]])"
      ]
     },
     "execution_count": 17,
     "metadata": {},
     "output_type": "execute_result"
    }
   ],
   "source": [
    "vec % 2 == 0"
   ]
  },
  {
   "cell_type": "code",
   "execution_count": 18,
   "metadata": {},
   "outputs": [
    {
     "data": {
      "text/plain": [
       "array([2, 4, 6])"
      ]
     },
     "execution_count": 18,
     "metadata": {},
     "output_type": "execute_result"
    }
   ],
   "source": [
    "vec[vec % 2 == 0]"
   ]
  },
  {
   "cell_type": "markdown",
   "metadata": {},
   "source": [
    "### Задание 1\n",
    "\n",
    "1.1 Выведите все первые элементы у каждой строчки массива vec с помощью индексирования"
   ]
  },
  {
   "cell_type": "code",
   "execution_count": null,
   "metadata": {},
   "outputs": [],
   "source": [
    "# твой код тут # (つ▀¯▀)つ"
   ]
  },
  {
   "cell_type": "markdown",
   "metadata": {},
   "source": [
    "1.2 Выведите все элементы массива, которые больше 3"
   ]
  },
  {
   "cell_type": "code",
   "execution_count": null,
   "metadata": {},
   "outputs": [],
   "source": [
    "# твой код тут # (つ▀¯▀)つ"
   ]
  },
  {
   "cell_type": "markdown",
   "metadata": {},
   "source": [
    "**Арифметические операции**"
   ]
  },
  {
   "cell_type": "code",
   "execution_count": 22,
   "metadata": {},
   "outputs": [
    {
     "data": {
      "text/plain": [
       "array([[2, 3],\n",
       "       [4, 5],\n",
       "       [6, 7]])"
      ]
     },
     "execution_count": 22,
     "metadata": {},
     "output_type": "execute_result"
    }
   ],
   "source": [
    "vec + 1"
   ]
  },
  {
   "cell_type": "code",
   "execution_count": 23,
   "metadata": {},
   "outputs": [
    {
     "data": {
      "text/plain": [
       "array([[ 2,  4],\n",
       "       [ 6,  8],\n",
       "       [10, 12]])"
      ]
     },
     "execution_count": 23,
     "metadata": {},
     "output_type": "execute_result"
    }
   ],
   "source": [
    "vec * 2"
   ]
  },
  {
   "cell_type": "code",
   "execution_count": 24,
   "metadata": {},
   "outputs": [
    {
     "data": {
      "text/plain": [
       "array([[ 1,  4],\n",
       "       [ 9, 16],\n",
       "       [25, 36]])"
      ]
     },
     "execution_count": 24,
     "metadata": {},
     "output_type": "execute_result"
    }
   ],
   "source": [
    "vec ** 2"
   ]
  },
  {
   "cell_type": "code",
   "execution_count": 25,
   "metadata": {},
   "outputs": [
    {
     "data": {
      "text/plain": [
       "array([[ 2,  6],\n",
       "       [12, 20],\n",
       "       [30, 42]])"
      ]
     },
     "execution_count": 25,
     "metadata": {},
     "output_type": "execute_result"
    }
   ],
   "source": [
    "vec + vec ** 2"
   ]
  },
  {
   "cell_type": "code",
   "execution_count": 26,
   "metadata": {},
   "outputs": [
    {
     "data": {
      "text/plain": [
       "array([[  1,   8],\n",
       "       [ 27,  64],\n",
       "       [125, 216]])"
      ]
     },
     "execution_count": 26,
     "metadata": {},
     "output_type": "execute_result"
    }
   ],
   "source": [
    "vec * vec ** 2"
   ]
  },
  {
   "cell_type": "code",
   "execution_count": 27,
   "metadata": {},
   "outputs": [
    {
     "data": {
      "text/plain": [
       "array([[ 0.84147098,  0.90929743],\n",
       "       [ 0.14112001, -0.7568025 ],\n",
       "       [-0.95892427, -0.2794155 ]])"
      ]
     },
     "execution_count": 27,
     "metadata": {},
     "output_type": "execute_result"
    }
   ],
   "source": [
    "np.sin(vec)"
   ]
  },
  {
   "cell_type": "code",
   "execution_count": 48,
   "metadata": {},
   "outputs": [
    {
     "data": {
      "text/plain": [
       "array([[  2.71828183,   7.3890561 ],\n",
       "       [ 20.08553692,  54.59815003],\n",
       "       [148.4131591 , 403.42879349]])"
      ]
     },
     "execution_count": 48,
     "metadata": {},
     "output_type": "execute_result"
    }
   ],
   "source": [
    "# e^(x)\n",
    "np.exp(vec)"
   ]
  },
  {
   "cell_type": "code",
   "execution_count": 49,
   "metadata": {},
   "outputs": [
    {
     "data": {
      "text/plain": [
       "array([[0.        , 0.69314718],\n",
       "       [1.09861229, 1.38629436],\n",
       "       [1.60943791, 1.79175947]])"
      ]
     },
     "execution_count": 49,
     "metadata": {},
     "output_type": "execute_result"
    }
   ],
   "source": [
    "np.log(vec)"
   ]
  },
  {
   "cell_type": "markdown",
   "metadata": {},
   "source": [
    "**Статистики**"
   ]
  },
  {
   "cell_type": "code",
   "execution_count": 63,
   "metadata": {},
   "outputs": [
    {
     "data": {
      "text/plain": [
       "(6, 1)"
      ]
     },
     "execution_count": 63,
     "metadata": {},
     "output_type": "execute_result"
    }
   ],
   "source": [
    "np.max(vec), np.min(vec)"
   ]
  },
  {
   "cell_type": "code",
   "execution_count": 64,
   "metadata": {},
   "outputs": [
    {
     "data": {
      "text/plain": [
       "3.5"
      ]
     },
     "execution_count": 64,
     "metadata": {},
     "output_type": "execute_result"
    }
   ],
   "source": [
    "# среднее арифметическое\n",
    "np.mean(vec)"
   ]
  },
  {
   "cell_type": "markdown",
   "metadata": {},
   "source": [
    "**Генерация значений матриц и векторов**"
   ]
  },
  {
   "cell_type": "code",
   "execution_count": 30,
   "metadata": {},
   "outputs": [
    {
     "data": {
      "text/plain": [
       "array([0., 0., 0.])"
      ]
     },
     "execution_count": 30,
     "metadata": {},
     "output_type": "execute_result"
    }
   ],
   "source": [
    "np.zeros(3)"
   ]
  },
  {
   "cell_type": "code",
   "execution_count": 35,
   "metadata": {},
   "outputs": [
    {
     "data": {
      "text/plain": [
       "array([1., 1., 1.])"
      ]
     },
     "execution_count": 35,
     "metadata": {},
     "output_type": "execute_result"
    }
   ],
   "source": [
    "np.ones(3)"
   ]
  },
  {
   "cell_type": "code",
   "execution_count": 34,
   "metadata": {},
   "outputs": [
    {
     "data": {
      "text/plain": [
       "array([ 0. ,  2.5,  5. ,  7.5, 10. ])"
      ]
     },
     "execution_count": 34,
     "metadata": {},
     "output_type": "execute_result"
    }
   ],
   "source": [
    "# делит интервал от start до stop на равные части и возвращает нужное число точек\n",
    "np.linspace(start=0, stop=10, num=5)"
   ]
  },
  {
   "cell_type": "code",
   "execution_count": 45,
   "metadata": {},
   "outputs": [
    {
     "data": {
      "text/plain": [
       "3.141592653589793"
      ]
     },
     "execution_count": 45,
     "metadata": {},
     "output_type": "execute_result"
    }
   ],
   "source": [
    "# А вот и ПИ!\n",
    "np.pi"
   ]
  },
  {
   "cell_type": "code",
   "execution_count": 47,
   "metadata": {},
   "outputs": [
    {
     "data": {
      "text/plain": [
       "2.718281828459045"
      ]
     },
     "execution_count": 47,
     "metadata": {},
     "output_type": "execute_result"
    }
   ],
   "source": [
    "# И экспонента тут тоже есть\n",
    "np.e"
   ]
  },
  {
   "cell_type": "markdown",
   "metadata": {},
   "source": [
    "**Визуализация с matplotlib**"
   ]
  },
  {
   "cell_type": "markdown",
   "metadata": {},
   "source": [
    "## Тип графика №1 - plot"
   ]
  },
  {
   "cell_type": "code",
   "execution_count": 44,
   "metadata": {},
   "outputs": [
    {
     "data": {
      "image/png": "[encoded data removed]",
      "text/plain": [
       "<matplotlib.figure.Figure at 0x7fb1687ae9b0>"
      ]
     },
     "metadata": {
      "needs_background": "light"
     },
     "output_type": "display_data"
    }
   ],
   "source": [
    "# генерируем данные\n",
    "x = np.linspace(0, 4*np.pi, num=100)\n",
    "y1 = np.sin(x)\n",
    "y2 = 2*np.sin(x)\n",
    "\n",
    "# строим график\n",
    "plt.plot(x, y1, label='sin(x)')\n",
    "plt.plot(x, y2, label='2*sin(x)')\n",
    "plt.legend()\n",
    "plt.show()"
   ]
  },
  {
   "cell_type": "markdown",
   "metadata": {},
   "source": [
    "### Задание 2\n",
    "\n",
    "Постройте и нарисуйте функцию:\n",
    "\n",
    "**Butterfly curve**\n",
    "\n",
    "$$x = \\sin(t) \\left(e^{\\cos(t)} - 2\\cos(4t) - \\sin^5\\left({t \\over 12}\\right)\\right)$$\n",
    "$${\\displaystyle y=\\cos(t)\\left(e^{\\cos(t)}-2\\cos(4t)-\\sin ^{5}\\left({t \\over 12}\\right)\\right)} $$\n",
    "$${\\displaystyle 0\\leq t\\leq 12\\pi } $$"
   ]
  },
  {
   "cell_type": "code",
   "execution_count": 61,
   "metadata": {},
   "outputs": [
    {
     "data": {
      "image/png": "[encoded data removed]",
      "text/plain": [
       "<matplotlib.figure.Figure at 0x7fb168711a20>"
      ]
     },
     "metadata": {
      "needs_background": "light"
     },
     "output_type": "display_data"
    }
   ],
   "source": [
    "t = np.linspace(0, 12*np.pi, num=1000)\n",
    "\n",
    "# твой код тут, напиши x(t) & y(t) # (つ▀¯▀)つ\n",
    "\n",
    "# x = np.sin(t)*(np.exp(np.cos(t)) - 2*np.cos(4*t) - np.sin(t/12)**5)\n",
    "# y = np.cos(t)*(np.exp(np.cos(t)) - 2*np.cos(4*t) - np.sin(t/12)**5)\n",
    "\n",
    "plt.plot(x,y)\n",
    "plt.show()"
   ]
  },
  {
   "cell_type": "markdown",
   "metadata": {},
   "source": [
    "# Исследуем данные (основы pandas)\n",
    "\n",
    "I'd like to investigate UFO data over the last century to formulate some questions, and gain insight regarding what the answers may be. This can also be a useful notebook on seeing how one may get their brain juices flowing when faced with an unknown dataset.\n",
    "\n",
    "Without looking at the data, I already have a question I'd like to investigate considering the topic: \n",
    "1. Are there any geographic areas where UFO sightings occur more frequently than others?\n",
    "\n",
    "<img src=\"https://i.imgur.com/z7Ah2e9.jpg\" width=300>\n"
   ]
  },
  {
   "cell_type": "code",
   "execution_count": 3,
   "metadata": {},
   "outputs": [],
   "source": [
    "ufo_data = pd.read_csv(\"./data/ufo.csv\")  # Подгружаем данные в переменную ufo_data"
   ]
  },
  {
   "cell_type": "code",
   "execution_count": 4,
   "metadata": {},
   "outputs": [
    {
     "data": {
      "text/html": [
       "<div>\n",
       "<style scoped>\n",
       "    .dataframe tbody tr th:only-of-type {\n",
       "        vertical-align: middle;\n",
       "    }\n",
       "\n",
       "    .dataframe tbody tr th {\n",
       "        vertical-align: top;\n",
       "    }\n",
       "\n",
       "    .dataframe thead th {\n",
       "        text-align: right;\n",
       "    }\n",
       "</style>\n",
       "<table border=\"1\" class=\"dataframe\">\n",
       "  <thead>\n",
       "    <tr style=\"text-align: right;\">\n",
       "      <th></th>\n",
       "      <th>datetime</th>\n",
       "      <th>city</th>\n",
       "      <th>state</th>\n",
       "      <th>country</th>\n",
       "      <th>shape</th>\n",
       "      <th>duration (seconds)</th>\n",
       "      <th>duration (hours/min)</th>\n",
       "      <th>comments</th>\n",
       "      <th>date posted</th>\n",
       "      <th>latitude</th>\n",
       "      <th>longitude</th>\n",
       "    </tr>\n",
       "  </thead>\n",
       "  <tbody>\n",
       "    <tr>\n",
       "      <th>0</th>\n",
       "      <td>10/10/1949 20:30</td>\n",
       "      <td>san marcos</td>\n",
       "      <td>tx</td>\n",
       "      <td>us</td>\n",
       "      <td>cylinder</td>\n",
       "      <td>2700.0</td>\n",
       "      <td>45 minutes</td>\n",
       "      <td>This event took place in early fall around 194...</td>\n",
       "      <td>4/27/2004</td>\n",
       "      <td>29.883056</td>\n",
       "      <td>-97.941111</td>\n",
       "    </tr>\n",
       "    <tr>\n",
       "      <th>1</th>\n",
       "      <td>10/10/1956 21:00</td>\n",
       "      <td>edna</td>\n",
       "      <td>tx</td>\n",
       "      <td>us</td>\n",
       "      <td>circle</td>\n",
       "      <td>20.0</td>\n",
       "      <td>1/2 hour</td>\n",
       "      <td>My older brother and twin sister were leaving ...</td>\n",
       "      <td>1/17/2004</td>\n",
       "      <td>28.978333</td>\n",
       "      <td>-96.645833</td>\n",
       "    </tr>\n",
       "    <tr>\n",
       "      <th>2</th>\n",
       "      <td>10/10/1960 20:00</td>\n",
       "      <td>kaneohe</td>\n",
       "      <td>hi</td>\n",
       "      <td>us</td>\n",
       "      <td>light</td>\n",
       "      <td>900.0</td>\n",
       "      <td>15 minutes</td>\n",
       "      <td>AS a Marine 1st Lt. flying an FJ4B fighter/att...</td>\n",
       "      <td>1/22/2004</td>\n",
       "      <td>21.418056</td>\n",
       "      <td>-157.803611</td>\n",
       "    </tr>\n",
       "    <tr>\n",
       "      <th>3</th>\n",
       "      <td>10/10/1961 19:00</td>\n",
       "      <td>bristol</td>\n",
       "      <td>tn</td>\n",
       "      <td>us</td>\n",
       "      <td>sphere</td>\n",
       "      <td>300.0</td>\n",
       "      <td>5 minutes</td>\n",
       "      <td>My father is now 89 my brother 52 the girl wit...</td>\n",
       "      <td>4/27/2007</td>\n",
       "      <td>36.595000</td>\n",
       "      <td>-82.188889</td>\n",
       "    </tr>\n",
       "    <tr>\n",
       "      <th>4</th>\n",
       "      <td>10/10/1965 23:45</td>\n",
       "      <td>norwalk</td>\n",
       "      <td>ct</td>\n",
       "      <td>us</td>\n",
       "      <td>disk</td>\n",
       "      <td>1200.0</td>\n",
       "      <td>20 minutes</td>\n",
       "      <td>A bright orange color changing to reddish colo...</td>\n",
       "      <td>10/2/1999</td>\n",
       "      <td>41.117500</td>\n",
       "      <td>-73.408333</td>\n",
       "    </tr>\n",
       "  </tbody>\n",
       "</table>\n",
       "</div>"
      ],
      "text/plain": [
       "           datetime        city state country     shape  duration (seconds)  \\\n",
       "0  10/10/1949 20:30  san marcos    tx      us  cylinder              2700.0   \n",
       "1  10/10/1956 21:00        edna    tx      us    circle                20.0   \n",
       "2  10/10/1960 20:00     kaneohe    hi      us     light               900.0   \n",
       "3  10/10/1961 19:00     bristol    tn      us    sphere               300.0   \n",
       "4  10/10/1965 23:45     norwalk    ct      us      disk              1200.0   \n",
       "\n",
       "  duration (hours/min)                                           comments  \\\n",
       "0           45 minutes  This event took place in early fall around 194...   \n",
       "1             1/2 hour  My older brother and twin sister were leaving ...   \n",
       "2           15 minutes  AS a Marine 1st Lt. flying an FJ4B fighter/att...   \n",
       "3            5 minutes  My father is now 89 my brother 52 the girl wit...   \n",
       "4           20 minutes  A bright orange color changing to reddish colo...   \n",
       "\n",
       "  date posted   latitude  longitude   \n",
       "0   4/27/2004  29.883056  -97.941111  \n",
       "1   1/17/2004  28.978333  -96.645833  \n",
       "2   1/22/2004  21.418056 -157.803611  \n",
       "3   4/27/2007  36.595000  -82.188889  \n",
       "4   10/2/1999  41.117500  -73.408333  "
      ]
     },
     "execution_count": 4,
     "metadata": {},
     "output_type": "execute_result"
    }
   ],
   "source": [
    "# чтобы увидеть первые 5 строк таблицы\n",
    "ufo_data.head()"
   ]
  },
  {
   "cell_type": "markdown",
   "metadata": {},
   "source": [
    "Видим, что данные бывают очень разных типов:\n",
    " * Дата и время\n",
    " * Категориальные данные (country, shape, state, city)\n",
    " * Геоданные (latitude, longitute)\n",
    " * Числовые данные (duration (seconds))"
   ]
  },
  {
   "cell_type": "code",
   "execution_count": 5,
   "metadata": {},
   "outputs": [
    {
     "data": {
      "text/plain": [
       "Index(['datetime', 'city', 'state', 'country', 'shape', 'duration (seconds)',\n",
       "       'duration (hours/min)', 'comments', 'date posted', 'latitude',\n",
       "       'longitude '],\n",
       "      dtype='object')"
      ]
     },
     "execution_count": 5,
     "metadata": {},
     "output_type": "execute_result"
    }
   ],
   "source": [
    "# Так можно получить названия всех колонок таблицы\n",
    "ufo_data.columns"
   ]
  },
  {
   "cell_type": "code",
   "execution_count": 6,
   "metadata": {},
   "outputs": [
    {
     "data": {
      "text/html": [
       "<div>\n",
       "<style scoped>\n",
       "    .dataframe tbody tr th:only-of-type {\n",
       "        vertical-align: middle;\n",
       "    }\n",
       "\n",
       "    .dataframe tbody tr th {\n",
       "        vertical-align: top;\n",
       "    }\n",
       "\n",
       "    .dataframe thead th {\n",
       "        text-align: right;\n",
       "    }\n",
       "</style>\n",
       "<table border=\"1\" class=\"dataframe\">\n",
       "  <thead>\n",
       "    <tr style=\"text-align: right;\">\n",
       "      <th></th>\n",
       "      <th>duration (seconds)</th>\n",
       "      <th>latitude</th>\n",
       "      <th>longitude</th>\n",
       "    </tr>\n",
       "  </thead>\n",
       "  <tbody>\n",
       "    <tr>\n",
       "      <th>count</th>\n",
       "      <td>6.651600e+04</td>\n",
       "      <td>66516.000000</td>\n",
       "      <td>66516.000000</td>\n",
       "    </tr>\n",
       "    <tr>\n",
       "      <th>mean</th>\n",
       "      <td>6.572997e+03</td>\n",
       "      <td>38.707097</td>\n",
       "      <td>-95.293158</td>\n",
       "    </tr>\n",
       "    <tr>\n",
       "      <th>std</th>\n",
       "      <td>5.108910e+05</td>\n",
       "      <td>5.844058</td>\n",
       "      <td>18.480976</td>\n",
       "    </tr>\n",
       "    <tr>\n",
       "      <th>min</th>\n",
       "      <td>1.000000e-02</td>\n",
       "      <td>-37.813938</td>\n",
       "      <td>-176.658056</td>\n",
       "    </tr>\n",
       "    <tr>\n",
       "      <th>25%</th>\n",
       "      <td>3.000000e+01</td>\n",
       "      <td>34.197500</td>\n",
       "      <td>-114.180556</td>\n",
       "    </tr>\n",
       "    <tr>\n",
       "      <th>50%</th>\n",
       "      <td>1.800000e+02</td>\n",
       "      <td>39.246111</td>\n",
       "      <td>-89.598750</td>\n",
       "    </tr>\n",
       "    <tr>\n",
       "      <th>75%</th>\n",
       "      <td>6.000000e+02</td>\n",
       "      <td>42.336944</td>\n",
       "      <td>-80.397500</td>\n",
       "    </tr>\n",
       "    <tr>\n",
       "      <th>max</th>\n",
       "      <td>8.280000e+07</td>\n",
       "      <td>72.700000</td>\n",
       "      <td>153.099533</td>\n",
       "    </tr>\n",
       "  </tbody>\n",
       "</table>\n",
       "</div>"
      ],
      "text/plain": [
       "       duration (seconds)      latitude    longitude \n",
       "count        6.651600e+04  66516.000000  66516.000000\n",
       "mean         6.572997e+03     38.707097    -95.293158\n",
       "std          5.108910e+05      5.844058     18.480976\n",
       "min          1.000000e-02    -37.813938   -176.658056\n",
       "25%          3.000000e+01     34.197500   -114.180556\n",
       "50%          1.800000e+02     39.246111    -89.598750\n",
       "75%          6.000000e+02     42.336944    -80.397500\n",
       "max          8.280000e+07     72.700000    153.099533"
      ]
     },
     "execution_count": 6,
     "metadata": {},
     "output_type": "execute_result"
    }
   ],
   "source": [
    "# Позволяет быстро оценить распределение для числовых признаков\n",
    "ufo_data.describe()"
   ]
  },
  {
   "cell_type": "code",
   "execution_count": 7,
   "metadata": {},
   "outputs": [
    {
     "data": {
      "text/plain": [
       "(66516, 11)"
      ]
     },
     "execution_count": 7,
     "metadata": {},
     "output_type": "execute_result"
    }
   ],
   "source": [
    "# количество записей в таблице, количество признаков для каждой записи\n",
    "ufo_data.shape"
   ]
  },
  {
   "cell_type": "markdown",
   "metadata": {},
   "source": [
    "### Основы работы с DataFrame"
   ]
  },
  {
   "cell_type": "code",
   "execution_count": 113,
   "metadata": {},
   "outputs": [
    {
     "data": {
      "text/plain": [
       "array(['san marcos', 'edna', 'kaneohe', ..., 'napa', 'vienna', 'edmond'],\n",
       "      dtype=object)"
      ]
     },
     "execution_count": 113,
     "metadata": {},
     "output_type": "execute_result"
    }
   ],
   "source": [
    "# Вытащить значения определенного столбца можно так:\n",
    "ufo_data['city'].values"
   ]
  },
  {
   "cell_type": "code",
   "execution_count": 114,
   "metadata": {},
   "outputs": [
    {
     "data": {
      "text/plain": [
       "array(['san marcos', 'edna', 'kaneohe', ..., 'napa', 'vienna', 'edmond'],\n",
       "      dtype=object)"
      ]
     },
     "execution_count": 114,
     "metadata": {},
     "output_type": "execute_result"
    }
   ],
   "source": [
    "# Или так\n",
    "ufo_data.city.values"
   ]
  },
  {
   "cell_type": "code",
   "execution_count": 29,
   "metadata": {},
   "outputs": [
    {
     "data": {
      "text/plain": [
       "array(['cylinder', 'circle', 'light', 'sphere', 'disk', 'fireball',\n",
       "       'unknown', 'oval', 'other', 'rectangle', 'chevron', 'formation',\n",
       "       'triangle', 'cigar', 'delta', 'changing', 'egg', 'diamond',\n",
       "       'flash', 'teardrop', 'cone', 'cross', 'pyramid', 'round', 'flare',\n",
       "       'hexagon', 'crescent', 'changed'], dtype=object)"
      ]
     },
     "execution_count": 29,
     "metadata": {},
     "output_type": "execute_result"
    }
   ],
   "source": [
    "# Как узнать какие уникальные значения вообще представлены в колонке признака?\n",
    "ufo_data['shape'].unique()"
   ]
  },
  {
   "cell_type": "code",
   "execution_count": 31,
   "metadata": {},
   "outputs": [
    {
     "data": {
      "text/plain": [
       "light        14130\n",
       "triangle      6817\n",
       "circle        6405\n",
       "fireball      5364\n",
       "unknown       4774\n",
       "other         4705\n",
       "sphere        4552\n",
       "disk          4319\n",
       "oval          3160\n",
       "formation     2088\n",
       "cigar         1717\n",
       "changing      1653\n",
       "flash         1124\n",
       "rectangle     1117\n",
       "cylinder      1079\n",
       "diamond        969\n",
       "chevron        852\n",
       "teardrop       614\n",
       "egg            609\n",
       "cone           257\n",
       "cross          197\n",
       "delta            7\n",
       "round            2\n",
       "crescent         1\n",
       "hexagon          1\n",
       "changed          1\n",
       "flare            1\n",
       "pyramid          1\n",
       "Name: shape, dtype: int64"
      ]
     },
     "execution_count": 31,
     "metadata": {},
     "output_type": "execute_result"
    }
   ],
   "source": [
    "# Как быстро посчитать распределение значений категориального признака?\n",
    "result = ufo_data['shape'].value_counts()\n",
    "result"
   ]
  },
  {
   "cell_type": "code",
   "execution_count": 32,
   "metadata": {},
   "outputs": [
    {
     "data": {
      "text/plain": [
       "Index(['light', 'triangle', 'circle', 'fireball', 'unknown', 'other', 'sphere',\n",
       "       'disk', 'oval', 'formation', 'cigar', 'changing', 'flash', 'rectangle',\n",
       "       'cylinder', 'diamond', 'chevron', 'teardrop', 'egg', 'cone', 'cross',\n",
       "       'delta', 'round', 'crescent', 'hexagon', 'changed', 'flare', 'pyramid'],\n",
       "      dtype='object')"
      ]
     },
     "execution_count": 32,
     "metadata": {},
     "output_type": "execute_result"
    }
   ],
   "source": [
    "# В возвращенном объекте в индексе будут лежать сами уникальные значения\n",
    "result.index"
   ]
  },
  {
   "cell_type": "code",
   "execution_count": 33,
   "metadata": {},
   "outputs": [
    {
     "data": {
      "text/plain": [
       "array([14130,  6817,  6405,  5364,  4774,  4705,  4552,  4319,  3160,\n",
       "        2088,  1717,  1653,  1124,  1117,  1079,   969,   852,   614,\n",
       "         609,   257,   197,     7,     2,     1,     1,     1,     1,\n",
       "           1])"
      ]
     },
     "execution_count": 33,
     "metadata": {},
     "output_type": "execute_result"
    }
   ],
   "source": [
    "# Здесь будут лежать соответствующие количества\n",
    "result.values"
   ]
  },
  {
   "cell_type": "code",
   "execution_count": 68,
   "metadata": {
    "scrolled": true
   },
   "outputs": [
    {
     "data": {
      "text/html": [
       "<div>\n",
       "<style scoped>\n",
       "    .dataframe tbody tr th:only-of-type {\n",
       "        vertical-align: middle;\n",
       "    }\n",
       "\n",
       "    .dataframe tbody tr th {\n",
       "        vertical-align: top;\n",
       "    }\n",
       "\n",
       "    .dataframe thead th {\n",
       "        text-align: right;\n",
       "    }\n",
       "</style>\n",
       "<table border=\"1\" class=\"dataframe\">\n",
       "  <thead>\n",
       "    <tr style=\"text-align: right;\">\n",
       "      <th></th>\n",
       "      <th>datetime</th>\n",
       "      <th>city</th>\n",
       "      <th>state</th>\n",
       "      <th>country</th>\n",
       "      <th>shape</th>\n",
       "      <th>duration (seconds)</th>\n",
       "      <th>duration (hours/min)</th>\n",
       "      <th>comments</th>\n",
       "      <th>date posted</th>\n",
       "      <th>latitude</th>\n",
       "      <th>longitude</th>\n",
       "    </tr>\n",
       "  </thead>\n",
       "  <tbody>\n",
       "    <tr>\n",
       "      <th>8205</th>\n",
       "      <td>1996-11-16 23:23:00</td>\n",
       "      <td>mansfield</td>\n",
       "      <td>pa</td>\n",
       "      <td>us</td>\n",
       "      <td>round</td>\n",
       "      <td>5.0</td>\n",
       "      <td>5 sec.</td>\n",
       "      <td>Man saw orange fireball pass across the sky at...</td>\n",
       "      <td>11/2/1999</td>\n",
       "      <td>41.807222</td>\n",
       "      <td>-77.077778</td>\n",
       "    </tr>\n",
       "    <tr>\n",
       "      <th>15181</th>\n",
       "      <td>1995-12-14 14:45:00</td>\n",
       "      <td>pomona</td>\n",
       "      <td>ca</td>\n",
       "      <td>us</td>\n",
       "      <td>round</td>\n",
       "      <td>900.0</td>\n",
       "      <td>15 min.</td>\n",
       "      <td>While delivering packages&amp;#44 man observes 16 ...</td>\n",
       "      <td>11/2/1999</td>\n",
       "      <td>34.055278</td>\n",
       "      <td>-117.751389</td>\n",
       "    </tr>\n",
       "  </tbody>\n",
       "</table>\n",
       "</div>"
      ],
      "text/plain": [
       "                 datetime       city state country  shape  duration (seconds)  \\\n",
       "8205  1996-11-16 23:23:00  mansfield    pa      us  round                 5.0   \n",
       "15181 1995-12-14 14:45:00     pomona    ca      us  round               900.0   \n",
       "\n",
       "      duration (hours/min)                                           comments  \\\n",
       "8205                5 sec.  Man saw orange fireball pass across the sky at...   \n",
       "15181              15 min.  While delivering packages&#44 man observes 16 ...   \n",
       "\n",
       "      date posted   latitude  longitude   \n",
       "8205    11/2/1999  41.807222  -77.077778  \n",
       "15181   11/2/1999  34.055278 -117.751389  "
      ]
     },
     "execution_count": 68,
     "metadata": {},
     "output_type": "execute_result"
    }
   ],
   "source": [
    "# Как вытащить часть таблички только с определенным значением категориального признака?\n",
    "# Принцип тот же, что и при работе с np.array\n",
    "\n",
    "ufo_data[ufo_data['shape'] == 'round']"
   ]
  },
  {
   "cell_type": "markdown",
   "metadata": {},
   "source": [
    "Как задать сразу несколько условий?\n",
    "Можно осуществлять над ними булевы операции типа логического `и` (`&`), `или` (`|`).\n",
    "\n",
    "Пример:"
   ]
  },
  {
   "cell_type": "code",
   "execution_count": 70,
   "metadata": {},
   "outputs": [
    {
     "data": {
      "text/html": [
       "<div>\n",
       "<style scoped>\n",
       "    .dataframe tbody tr th:only-of-type {\n",
       "        vertical-align: middle;\n",
       "    }\n",
       "\n",
       "    .dataframe tbody tr th {\n",
       "        vertical-align: top;\n",
       "    }\n",
       "\n",
       "    .dataframe thead th {\n",
       "        text-align: right;\n",
       "    }\n",
       "</style>\n",
       "<table border=\"1\" class=\"dataframe\">\n",
       "  <thead>\n",
       "    <tr style=\"text-align: right;\">\n",
       "      <th></th>\n",
       "      <th>datetime</th>\n",
       "      <th>city</th>\n",
       "      <th>state</th>\n",
       "      <th>country</th>\n",
       "      <th>shape</th>\n",
       "      <th>duration (seconds)</th>\n",
       "      <th>duration (hours/min)</th>\n",
       "      <th>comments</th>\n",
       "      <th>date posted</th>\n",
       "      <th>latitude</th>\n",
       "      <th>longitude</th>\n",
       "    </tr>\n",
       "  </thead>\n",
       "  <tbody>\n",
       "    <tr>\n",
       "      <th>15181</th>\n",
       "      <td>1995-12-14 14:45:00</td>\n",
       "      <td>pomona</td>\n",
       "      <td>ca</td>\n",
       "      <td>us</td>\n",
       "      <td>round</td>\n",
       "      <td>900.0</td>\n",
       "      <td>15 min.</td>\n",
       "      <td>While delivering packages&amp;#44 man observes 16 ...</td>\n",
       "      <td>11/2/1999</td>\n",
       "      <td>34.055278</td>\n",
       "      <td>-117.751389</td>\n",
       "    </tr>\n",
       "  </tbody>\n",
       "</table>\n",
       "</div>"
      ],
      "text/plain": [
       "                 datetime    city state country  shape  duration (seconds)  \\\n",
       "15181 1995-12-14 14:45:00  pomona    ca      us  round               900.0   \n",
       "\n",
       "      duration (hours/min)                                           comments  \\\n",
       "15181              15 min.  While delivering packages&#44 man observes 16 ...   \n",
       "\n",
       "      date posted   latitude  longitude   \n",
       "15181   11/2/1999  34.055278 -117.751389  "
      ]
     },
     "execution_count": 70,
     "metadata": {},
     "output_type": "execute_result"
    }
   ],
   "source": [
    "ufo_data[(ufo_data['shape'] == 'round') & (ufo_data['city'] == 'pomona')]"
   ]
  },
  {
   "cell_type": "markdown",
   "metadata": {},
   "source": [
    "## Задание №3"
   ]
  },
  {
   "cell_type": "markdown",
   "metadata": {},
   "source": [
    "Получите табличку, для которой верно следующее:\n",
    "    * city: `vienna` и `mansfield`\n",
    "    * duration (seconds) >= 1000\n",
    "\n",
    "Какие формы НЛО чаще всего встречались в этой табличке?\n",
    "\n",
    "Ваш ответ 2 слова:)"
   ]
  },
  {
   "cell_type": "code",
   "execution_count": 99,
   "metadata": {},
   "outputs": [
    {
     "data": {
      "text/plain": [
       "circle       2\n",
       "light        2\n",
       "cigar        1\n",
       "other        1\n",
       "sphere       1\n",
       "unknown      1\n",
       "formation    1\n",
       "disk         1\n",
       "Name: shape, dtype: int64"
      ]
     },
     "execution_count": 99,
     "metadata": {},
     "output_type": "execute_result"
    }
   ],
   "source": [
    "# Solution:\n",
    "\n",
    "condition = ((ufo_data['city'] == 'vienna')|\\\n",
    "            (ufo_data['city'] == 'mansfield')) &\\\n",
    "            (ufo_data['duration (seconds)']>=1000)\n",
    "ufo_data[condition]['shape'].value_counts()"
   ]
  },
  {
   "cell_type": "markdown",
   "metadata": {},
   "source": [
    "## Тип графика №2 - histogram"
   ]
  },
  {
   "cell_type": "code",
   "execution_count": 34,
   "metadata": {},
   "outputs": [
    {
     "data": {
      "image/png": "[encoded data removed]",
      "text/plain": [
       "<matplotlib.figure.Figure at 0x7f00e39f2898>"
      ]
     },
     "metadata": {
      "needs_background": "light"
     },
     "output_type": "display_data"
    }
   ],
   "source": [
    "# Можно также рисовать графики с определенным значением признака\n",
    "# Например, так:\n",
    "plt.hist(ufo_data['duration (seconds)'].values)\n",
    "plt.title(\"Гистограмма распределения\\nдлительности НЛО в секундах\")\n",
    "plt.xlabel(\"Длительность НЛО (в секундах)\")\n",
    "plt.ylabel(\"Количество НЛО с такой длительностью\")\n",
    "\n",
    "# для логарифмического масштаба по шкале y\n",
    "# можете проверить что будет, если эту строчку закомментировать\n",
    "plt.semilogy()\n",
    "plt.show()"
   ]
  },
  {
   "cell_type": "markdown",
   "metadata": {},
   "source": [
    "### DateTime"
   ]
  },
  {
   "cell_type": "code",
   "execution_count": 16,
   "metadata": {},
   "outputs": [],
   "source": [
    "# Приводим дату и время к формату  pandas.datetime, чтобы было удобнее работать\n",
    "ufo_data['datetime'] = ufo_data.datetime.str.replace('24:00', '00:00')\n",
    "ufo_data['datetime'] = pd.to_datetime(ufo_data['datetime'], format='%m/%d/%Y %H:%M')"
   ]
  },
  {
   "cell_type": "markdown",
   "metadata": {},
   "source": [
    "# 1. Как меняется количество НЛО с годами?"
   ]
  },
  {
   "cell_type": "code",
   "execution_count": 37,
   "metadata": {},
   "outputs": [],
   "source": [
    "ufo_yr = ufo_data['datetime'].dt.year  # так можно достать только год из даты\n",
    "\n",
    "years_data = ufo_yr.value_counts() # считаем сколько раз каждый год встретился\n",
    "years_index = years_data.index  # берем уникальные значения чтобы сделать подписи на шкале x\n",
    "years_values = years_data.values # берем значения подсчета"
   ]
  },
  {
   "cell_type": "markdown",
   "metadata": {},
   "source": [
    "## Тип графика №3 - bar plot"
   ]
  },
  {
   "cell_type": "code",
   "execution_count": 62,
   "metadata": {},
   "outputs": [
    {
     "data": {
      "image/png": "[encoded data removed]",
      "text/plain": [
       "<matplotlib.figure.Figure at 0x7f00e46e7f28>"
      ]
     },
     "metadata": {
      "needs_background": "light"
     },
     "output_type": "display_data"
    }
   ],
   "source": [
    "plt.figure(figsize=(13,4))\n",
    "plt.xticks(rotation = 60)\n",
    "plt.title('Распределение количества зафиксированных случаев НЛО по годам')\n",
    "\n",
    "years_plot = plt.bar(x=years_index, height=years_values, color = \"red\", )"
   ]
  },
  {
   "cell_type": "markdown",
   "metadata": {},
   "source": [
    "Данные прерываются на середине 2014 года"
   ]
  },
  {
   "cell_type": "markdown",
   "metadata": {},
   "source": [
    "# **2. География** - Где зафиксировано больше всего НЛО?\n"
   ]
  },
  {
   "cell_type": "markdown",
   "metadata": {},
   "source": [
    "## Тип графика №4 - pie chart"
   ]
  },
  {
   "cell_type": "code",
   "execution_count": 58,
   "metadata": {},
   "outputs": [
    {
     "data": {
      "image/png": "[encoded data removed]",
      "text/plain": [
       "<matplotlib.figure.Figure at 0x7f00e4555550>"
      ]
     },
     "metadata": {},
     "output_type": "display_data"
    }
   ],
   "source": [
    "country_sightings = ufo_data.country.value_counts()  # num ufo sightings per country \n",
    "\n",
    "colors = ['lightblue','gold','yellowgreen','lightcoral','orange']\n",
    "country_sightings.plot(kind = 'pie', fontsize = 0, title='UFO Sightings by Country', colors=colors,\n",
    "                       autopct='%1.1f%%',shadow=True,figsize=(4,4))\n",
    "plt.legend(labels=['United States','Canada','United Kingdom','Australia'], loc=\"best\")\n",
    "plt.tight_layout()"
   ]
  },
  {
   "cell_type": "code",
   "execution_count": 47,
   "metadata": {},
   "outputs": [
    {
     "data": {
      "text/plain": [
       "us    63553\n",
       "ca     2942\n",
       "gb       11\n",
       "au       10\n",
       "Name: country, dtype: int64"
      ]
     },
     "execution_count": 47,
     "metadata": {},
     "output_type": "execute_result"
    }
   ],
   "source": [
    "country_sightings"
   ]
  },
  {
   "cell_type": "markdown",
   "metadata": {},
   "source": [
    "## Задание №4"
   ]
  },
  {
   "cell_type": "markdown",
   "metadata": {},
   "source": [
    "Видимо в представленных данных наибольшее количество НЛО приходится на США.\n",
    "\n",
    "**4.1** Хочется узнать, какие штаты самые популярные по количеству зафиксированных НЛО.\n",
    "Постройте подходящую визуализацию для ответа на этот вопрос.\n",
    "\n",
    "**4.2** Используйте данные о количестве населения в каждом штате, чтобы оценка популярности НЛО в штате была более честной -- нужно построить тот же график что и в первом пункте, но теперь он будет описывать количество случаев НЛО на душу населения."
   ]
  },
  {
   "cell_type": "code",
   "execution_count": 63,
   "metadata": {},
   "outputs": [],
   "source": [
    "# 4.1 твой код тут # (つ▀¯▀)つ"
   ]
  },
  {
   "cell_type": "code",
   "execution_count": 101,
   "metadata": {},
   "outputs": [
    {
     "data": {
      "text/plain": [
       "al     4872725.0\n",
       "ak      746079.0\n",
       "az     7044577.0\n",
       "ar     2998643.0\n",
       "ca    39506094.0\n",
       "dtype: float64"
      ]
     },
     "execution_count": 101,
     "metadata": {},
     "output_type": "execute_result"
    }
   ],
   "source": [
    "# 4.2 \n",
    "\n",
    "# Данные о популяции населения в каждом штате\n",
    "statespop = {'al':4872725.,'ak':746079.,'az':7044577.,'ar':2998643.,'ca':39506094.,\n",
    "            'co':5632271.,'ct':3568174.,'de':960054.,'dc':691963.,'fl':20979964.,\n",
    "            'ga':10421344.,'hi':1431957.,'id':1713452.,'il':12764031.,'in':6653338.,\n",
    "            'ia':3147389.,'ks':2907857.,'ky':4449337.,'la':4694372.,'me':1333505.,\n",
    "            'md':6037911.,'ma':6839318.,'mi':9938885.,'mn':5557469.,'ms':2988062.,\n",
    "            'mo':6109796.,'mt':1052967.,'ne':1920467.,'nv':2996358,'nh':1339479.,\n",
    "            'nj':8953517.,'nm':2081702.,'ny':19743395.,'nc':10258390.,'nd':759069.,\n",
    "            'oh':11623656.,'ok':3939708.,'or':4162296.,'pa':12776550.,'pr':3661538.,\n",
    "            'ri':1057245.,'sc':5027404.,'sd':872989.,'tn':6707332.,'tx':28295553.,\n",
    "            'ut':3111802.,'vt':623100.,'va':8456029.,'wa':7415710.,'wv':1821151.,\n",
    "            'wi':5789525.,'wy':584447.} \n",
    "states_pop = pd.Series(statespop)\n",
    "states_pop[:5]"
   ]
  },
  {
   "cell_type": "markdown",
   "metadata": {},
   "source": [
    "# **3. Сезонность** - Какой самый популярный месяц для появления НЛО?"
   ]
  },
  {
   "cell_type": "code",
   "execution_count": 112,
   "metadata": {},
   "outputs": [
    {
     "data": {
      "image/png": "[encoded data removed]",
      "text/plain": [
       "<matplotlib.figure.Figure at 0x7f00e3fb1d30>"
      ]
     },
     "metadata": {
      "needs_background": "light"
     },
     "output_type": "display_data"
    }
   ],
   "source": [
    "m_cts = (ufo_data['datetime'].dt.month.value_counts()).sort_index()\n",
    "m_ctsx = m_cts.index\n",
    "m_ctsy = m_cts.get_values()\n",
    "f, ax = plt.subplots(figsize=(7,3))\n",
    "\n",
    "# Чтобы были красивые цвета на картиночке можно еще так делать\n",
    "data_color = [x/max(m_ctsx) for x in m_ctsx]\n",
    "my_cmap = plt.cm.get_cmap('GnBu')\n",
    "colors = my_cmap(data_color)\n",
    "\n",
    "\n",
    "plt.bar(x=m_ctsx, height=m_ctsy, color=colors)\n",
    "ax.set_title('Количество появление НЛО по месяцам')\n",
    "ax.set_xlabel('Месяц')\n",
    "ax.set_ylabel('# НЛО')\n",
    "plt.xticks(rotation=45)\n",
    "plt.show()"
   ]
  },
  {
   "cell_type": "markdown",
   "metadata": {},
   "source": [
    "Лидирует 7-ой месяц, кажется это **июль**;\n",
    "\n",
    "Возможно это связано с тем, что в это время большая часть населения выбирается на природу?\n",
    "\n",
    "Можно проанализировать, какова закономерность отдельно для каждого полушария (ведь у нас есть данные о широте!).\n",
    "\n",
    "<img src=\"https://i.ytimg.com/vi/LtUb5tha9C0/maxresdefault.jpg\" width=400>"
   ]
  },
  {
   "cell_type": "markdown",
   "metadata": {},
   "source": [
    "## Задание №5\n",
    "\n",
    "Проанализируйте распределение количества наблюдений НЛО по месяцам отдельно для южного и северного полушария."
   ]
  },
  {
   "cell_type": "markdown",
   "metadata": {},
   "source": [
    "**Решение**"
   ]
  },
  {
   "cell_type": "code",
   "execution_count": 122,
   "metadata": {},
   "outputs": [],
   "source": [
    "def plot_month(data, title, cmap_name='GnBu'):\n",
    "    m_cts = (data['datetime'].dt.month.value_counts()).sort_index()\n",
    "    m_ctsx = m_cts.index\n",
    "    m_ctsy = m_cts.get_values()\n",
    "    f, ax = plt.subplots(figsize=(7,3))\n",
    "\n",
    "    # Чтобы были красивые цвета на картиночке можно еще так делать\n",
    "    data_color = [x/max(m_ctsx) for x in m_ctsx]\n",
    "    my_cmap = plt.cm.get_cmap(cmap_name)\n",
    "    colors = my_cmap(data_color)\n",
    "\n",
    "\n",
    "    plt.bar(x=m_ctsx, height=m_ctsy, color=colors)\n",
    "    ax.set_title('Количество появление НЛО по месяцам\\n'+title)\n",
    "    ax.set_xlabel('Месяц')\n",
    "    ax.set_ylabel('# НЛО')\n",
    "    plt.xticks(rotation=45)\n",
    "    plt.show()"
   ]
  },
  {
   "cell_type": "code",
   "execution_count": 123,
   "metadata": {},
   "outputs": [
    {
     "data": {
      "image/png": "[encoded data removed]",
      "text/plain": [
       "<matplotlib.figure.Figure at 0x7f00e3230518>"
      ]
     },
     "metadata": {
      "needs_background": "light"
     },
     "output_type": "display_data"
    }
   ],
   "source": [
    "north = ufo_data[ufo_data.latitude>0]\n",
    "plot_month(north, title='NORTH')"
   ]
  },
  {
   "cell_type": "code",
   "execution_count": 125,
   "metadata": {},
   "outputs": [
    {
     "data": {
      "image/png": "[encoded data removed]",
      "text/plain": [
       "<matplotlib.figure.Figure at 0x7f00e2ee74e0>"
      ]
     },
     "metadata": {
      "needs_background": "light"
     },
     "output_type": "display_data"
    }
   ],
   "source": [
    "north = ufo_data[ufo_data.latitude<=0]\n",
    "plot_month(north, title='SOUTH', cmap_name='OrRd_r')"
   ]
  }
 ],
 "metadata": {
  "kernelspec": {
   "display_name": "Python 3",
   "language": "python",
   "name": "python3"
  },
  "language_info": {
   "codemirror_mode": {
    "name": "ipython",
    "version": 3
   },
   "file_extension": ".py",
   "mimetype": "text/x-python",
   "name": "python",
   "nbconvert_exporter": "python",
   "pygments_lexer": "ipython3",
   "version": "3.6.3"
  }
 },
 "nbformat": 4,
 "nbformat_minor": 2
}
