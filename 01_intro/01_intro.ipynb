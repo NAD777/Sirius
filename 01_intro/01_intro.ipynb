{
 "cells": [
  {
   "cell_type": "markdown",
   "metadata": {},
   "source": [
    "# Что мы сегодня узнаем?\n",
    "\n",
    "- узнаем об основных классах задач в машинном обучении\n",
    "- разберем, какие инструменты используются для решения таких задач на практике\n",
    "- поработаем с numpy и pandas\n",
    "- попрактикуемся анализировать данные сами"
   ]
  },
  {
   "cell_type": "markdown",
   "metadata": {},
   "source": [
    "## 1 Постановки основных классов задач в машинном обучении\n",
    "\n",
    "* **Обучение с учителем (supervised learning)**\n",
    "    * Дана обучающая выборка $(X,y)$, требуется для новых $X$ предсказать $y$\n",
    "    * Примеры\n",
    "        * **Задачи классификации**\n",
    "            1. Автоматическое определение пола по фотографии\n",
    "            2. Генерация текста\n",
    "            3. Машинный перевод\n",
    "            \n",
    "        * **Задачи регрессии**\n",
    "            1. Синтез речи\n",
    "            2. Предсказание возраста человека по его поведению в интернете\n",
    "            3. Генерация котиков\n",
    "---\n",
    "\n",
    "* **Обучение без учителя (unsupervised learning)**\n",
    "    * Даны только $X$, чаще всего требуется как-то сгруппировать объекты на основе их схожести\n",
    "    * Примеры\n",
    "        * **Кластеризация**\n",
    "            * Выделить группы пользователей приложения\n",
    "        * Уменьшение размерности\n",
    "---\n",
    "\n",
    "* **Частичное обучение (semi-supervised learning)**\n",
    "    * Даны $X$ и для некоторых из них даны $y$\n",
    "    * Примеры\n",
    "        * Рекомендательные системы\n",
    "---\n",
    "\n",
    "* **Обучение с подкреплением (reinforcement learning)**\n",
    "    * Необходимо найти стратегию поведения, которая максимизирует выигрыш в долгосрочной перспективе в заданной среде.\n",
    "    * Примеры\n",
    "        * Обучение роботов передвижению предметов\n",
    "        * AlphaGo, AlphaGo Zero\n",
    "        * Прохождение игр агентами"
   ]
  },
  {
   "cell_type": "markdown",
   "metadata": {},
   "source": [
    "## 2. Введение в python, numpy, pandas, matplotlib"
   ]
  },
  {
   "cell_type": "code",
   "execution_count": null,
   "metadata": {},
   "outputs": [],
   "source": [
    "# Так мы подключаем библиотеки, которые хотим использовать\n",
    "# После служебного слова `as` указываем как будем называть этот модуль в коде\n",
    "# Это как `import Мария as Маша` потому что Машу мы чаще называем Маша для краткости:)\n",
    "\n",
    "import pandas as pd # Для работы с табличками данных\n",
    "import numpy as np # Для работы с числовыми векторами и матрицами"
   ]
  },
  {
   "cell_type": "code",
   "execution_count": null,
   "metadata": {},
   "outputs": [],
   "source": [
    "from matplotlib import pyplot as plt # Для рисования всего\n",
    "# Чтобы все рисовалось в ноутбуке, а не в отдельном окне\n",
    "%matplotlib inline"
   ]
  },
  {
   "cell_type": "markdown",
   "metadata": {},
   "source": [
    "# Numpy"
   ]
  },
  {
   "cell_type": "code",
   "execution_count": null,
   "metadata": {},
   "outputs": [],
   "source": [
    "vec = np.array([[1, 2], [3, 4], [5, 6]])\n",
    "vec"
   ]
  },
  {
   "cell_type": "code",
   "execution_count": null,
   "metadata": {},
   "outputs": [],
   "source": [
    "# размер массива\n",
    "vec.shape"
   ]
  },
  {
   "cell_type": "markdown",
   "metadata": {},
   "source": [
    "**Индексация массива**"
   ]
  },
  {
   "cell_type": "code",
   "execution_count": null,
   "metadata": {},
   "outputs": [],
   "source": [
    "vec[:, 1]"
   ]
  },
  {
   "cell_type": "code",
   "execution_count": null,
   "metadata": {},
   "outputs": [],
   "source": [
    "vec[2, :]"
   ]
  },
  {
   "cell_type": "code",
   "execution_count": null,
   "metadata": {},
   "outputs": [],
   "source": [
    "vec[1:2, 0]"
   ]
  },
  {
   "cell_type": "markdown",
   "metadata": {},
   "source": [
    "**Индексация массива с помощью булевых выражений**"
   ]
  },
  {
   "cell_type": "code",
   "execution_count": null,
   "metadata": {},
   "outputs": [],
   "source": [
    "vec % 2 == 0"
   ]
  },
  {
   "cell_type": "code",
   "execution_count": null,
   "metadata": {},
   "outputs": [],
   "source": [
    "vec[vec % 2 == 0]"
   ]
  },
  {
   "cell_type": "markdown",
   "metadata": {},
   "source": [
    "### Задание 1\n",
    "\n",
    "1.1 Выведите все первые элементы у каждой строчки массива vec с помощью индексирования"
   ]
  },
  {
   "cell_type": "code",
   "execution_count": null,
   "metadata": {},
   "outputs": [],
   "source": [
    "# твой код тут # (つ▀¯▀)つ"
   ]
  },
  {
   "cell_type": "markdown",
   "metadata": {},
   "source": [
    "1.2 Выведите все элементы массива, которые больше 3"
   ]
  },
  {
   "cell_type": "code",
   "execution_count": null,
   "metadata": {},
   "outputs": [],
   "source": [
    "# твой код тут # (つ▀¯▀)つ"
   ]
  },
  {
   "cell_type": "markdown",
   "metadata": {},
   "source": [
    "**Арифметические операции**"
   ]
  },
  {
   "cell_type": "code",
   "execution_count": null,
   "metadata": {},
   "outputs": [],
   "source": [
    "vec + 1"
   ]
  },
  {
   "cell_type": "code",
   "execution_count": null,
   "metadata": {},
   "outputs": [],
   "source": [
    "vec * 2"
   ]
  },
  {
   "cell_type": "code",
   "execution_count": null,
   "metadata": {},
   "outputs": [],
   "source": [
    "vec ** 2"
   ]
  },
  {
   "cell_type": "code",
   "execution_count": null,
   "metadata": {},
   "outputs": [],
   "source": [
    "vec + vec ** 2"
   ]
  },
  {
   "cell_type": "code",
   "execution_count": null,
   "metadata": {},
   "outputs": [],
   "source": [
    "vec * vec ** 2"
   ]
  },
  {
   "cell_type": "code",
   "execution_count": null,
   "metadata": {},
   "outputs": [],
   "source": [
    "np.sin(vec)"
   ]
  },
  {
   "cell_type": "code",
   "execution_count": null,
   "metadata": {},
   "outputs": [],
   "source": [
    "# e^(x)\n",
    "np.exp(vec)"
   ]
  },
  {
   "cell_type": "code",
   "execution_count": null,
   "metadata": {},
   "outputs": [],
   "source": [
    "np.log(vec)"
   ]
  },
  {
   "cell_type": "markdown",
   "metadata": {},
   "source": [
    "**Статистики**"
   ]
  },
  {
   "cell_type": "code",
   "execution_count": null,
   "metadata": {},
   "outputs": [],
   "source": [
    "np.max(vec), np.min(vec)"
   ]
  },
  {
   "cell_type": "code",
   "execution_count": null,
   "metadata": {},
   "outputs": [],
   "source": [
    "# среднее арифметическое\n",
    "np.mean(vec)"
   ]
  },
  {
   "cell_type": "markdown",
   "metadata": {},
   "source": [
    "**Генерация значений матриц и векторов**"
   ]
  },
  {
   "cell_type": "code",
   "execution_count": null,
   "metadata": {},
   "outputs": [],
   "source": [
    "np.zeros(3)"
   ]
  },
  {
   "cell_type": "code",
   "execution_count": null,
   "metadata": {},
   "outputs": [],
   "source": [
    "np.ones(3)"
   ]
  },
  {
   "cell_type": "code",
   "execution_count": null,
   "metadata": {},
   "outputs": [],
   "source": [
    "# делит интервал от start до stop на равные части и возвращает нужное число точек\n",
    "np.linspace(start=0, stop=10, num=5)"
   ]
  },
  {
   "cell_type": "code",
   "execution_count": null,
   "metadata": {},
   "outputs": [],
   "source": [
    "# А вот и ПИ!\n",
    "np.pi"
   ]
  },
  {
   "cell_type": "code",
   "execution_count": null,
   "metadata": {},
   "outputs": [],
   "source": [
    "# И экспонента тут тоже есть\n",
    "np.e"
   ]
  },
  {
   "cell_type": "markdown",
   "metadata": {},
   "source": [
    "**Визуализация с matplotlib**"
   ]
  },
  {
   "cell_type": "markdown",
   "metadata": {},
   "source": [
    "## Тип графика №1 - plot"
   ]
  },
  {
   "cell_type": "code",
   "execution_count": null,
   "metadata": {},
   "outputs": [],
   "source": [
    "# генерируем данные\n",
    "x = np.linspace(0, 4*np.pi, num=100)\n",
    "y1 = np.sin(x)\n",
    "y2 = 2*np.sin(x)\n",
    "\n",
    "# строим график\n",
    "plt.plot(x, y1, label='sin(x)')\n",
    "plt.plot(x, y2, label='2*sin(x)')\n",
    "plt.legend()\n",
    "plt.show()"
   ]
  },
  {
   "cell_type": "markdown",
   "metadata": {},
   "source": [
    "### Задание 2\n",
    "\n",
    "Постройте и нарисуйте функцию:\n",
    "\n",
    "**Butterfly curve**\n",
    "\n",
    "$$x = \\sin(t) \\left(e^{\\cos(t)} - 2\\cos(4t) - \\sin^5\\left({t \\over 12}\\right)\\right)$$\n",
    "$${\\displaystyle y=\\cos(t)\\left(e^{\\cos(t)}-2\\cos(4t)-\\sin ^{5}\\left({t \\over 12}\\right)\\right)} $$\n",
    "$${\\displaystyle 0\\leq t\\leq 12\\pi } $$"
   ]
  },
  {
   "cell_type": "code",
   "execution_count": null,
   "metadata": {},
   "outputs": [],
   "source": [
    "t = np.linspace(0, 12*np.pi, num=1000)\n",
    "\n",
    "# твой код тут, напиши x(t) & y(t) # (つ▀¯▀)つ\n",
    "x = \n",
    "y = \n",
    "\n",
    "plt.plot(x,y)\n",
    "plt.show()"
   ]
  },
  {
   "cell_type": "markdown",
   "metadata": {},
   "source": [
    "# Исследуем данные (основы pandas)\n",
    "\n",
    "I'd like to investigate UFO data over the last century to formulate some questions, and gain insight regarding what the answers may be. This can also be a useful notebook on seeing how one may get their brain juices flowing when faced with an unknown dataset.\n",
    "\n",
    "Without looking at the data, I already have a question I'd like to investigate considering the topic: \n",
    "1. Are there any geographic areas where UFO sightings occur more frequently than others?\n",
    "\n",
    "<img src=\"https://i.imgur.com/z7Ah2e9.jpg\" width=300>\n"
   ]
  },
  {
   "cell_type": "code",
   "execution_count": null,
   "metadata": {},
   "outputs": [],
   "source": [
    "ufo_data = pd.read_csv(\"./data/ufo.csv\")  # Подгружаем данные в переменную ufo_data"
   ]
  },
  {
   "cell_type": "code",
   "execution_count": null,
   "metadata": {},
   "outputs": [],
   "source": [
    "# чтобы увидеть первые 5 строк таблицы\n",
    "ufo_data.head()"
   ]
  },
  {
   "cell_type": "markdown",
   "metadata": {},
   "source": [
    "Видим, что данные бывают очень разных типов:\n",
    " * Дата и время\n",
    " * Категориальные данные (country, shape, state, city)\n",
    " * Геоданные (latitude, longitute)\n",
    " * Числовые данные (duration (seconds))"
   ]
  },
  {
   "cell_type": "code",
   "execution_count": null,
   "metadata": {},
   "outputs": [],
   "source": [
    "# Так можно получить названия всех колонок таблицы\n",
    "ufo_data.columns"
   ]
  },
  {
   "cell_type": "code",
   "execution_count": null,
   "metadata": {},
   "outputs": [],
   "source": [
    "# Позволяет быстро оценить распределение для числовых признаков\n",
    "ufo_data.describe()"
   ]
  },
  {
   "cell_type": "code",
   "execution_count": null,
   "metadata": {},
   "outputs": [],
   "source": [
    "# количество записей в таблице, количество признаков для каждой записи\n",
    "ufo_data.shape"
   ]
  },
  {
   "cell_type": "markdown",
   "metadata": {},
   "source": [
    "### Основы работы с DataFrame"
   ]
  },
  {
   "cell_type": "code",
   "execution_count": null,
   "metadata": {},
   "outputs": [],
   "source": [
    "# Вытащить значения определенного столбца можно так:\n",
    "ufo_data['city'].values"
   ]
  },
  {
   "cell_type": "code",
   "execution_count": null,
   "metadata": {},
   "outputs": [],
   "source": [
    "# Или так\n",
    "ufo_data.city.values"
   ]
  },
  {
   "cell_type": "code",
   "execution_count": null,
   "metadata": {},
   "outputs": [],
   "source": [
    "# Как узнать какие уникальные значения вообще представлены в колонке признака?\n",
    "ufo_data['shape'].unique()"
   ]
  },
  {
   "cell_type": "code",
   "execution_count": null,
   "metadata": {},
   "outputs": [],
   "source": [
    "# Как быстро посчитать распределение значений категориального признака?\n",
    "result = ufo_data['shape'].value_counts()\n",
    "result"
   ]
  },
  {
   "cell_type": "code",
   "execution_count": null,
   "metadata": {},
   "outputs": [],
   "source": [
    "# В возвращенном объекте в индексе будут лежать сами уникальные значения\n",
    "result.index"
   ]
  },
  {
   "cell_type": "code",
   "execution_count": null,
   "metadata": {},
   "outputs": [],
   "source": [
    "# Здесь будут лежать соответствующие количества\n",
    "result.values"
   ]
  },
  {
   "cell_type": "code",
   "execution_count": null,
   "metadata": {
    "scrolled": true
   },
   "outputs": [],
   "source": [
    "# Как вытащить часть таблички только с определенным значением категориального признака?\n",
    "# Принцип тот же, что и при работе с np.array\n",
    "\n",
    "ufo_data[ufo_data['shape'] == 'round']"
   ]
  },
  {
   "cell_type": "markdown",
   "metadata": {},
   "source": [
    "Как задать сразу несколько условий?\n",
    "Можно осуществлять над ними булевы операции типа логического `и` (`&`), `или` (`|`).\n",
    "\n",
    "Пример:"
   ]
  },
  {
   "cell_type": "code",
   "execution_count": null,
   "metadata": {},
   "outputs": [],
   "source": [
    "ufo_data[(ufo_data['shape'] == 'round') & (ufo_data['city'] == 'pomona')]"
   ]
  },
  {
   "cell_type": "markdown",
   "metadata": {},
   "source": [
    "## Задание №3"
   ]
  },
  {
   "cell_type": "markdown",
   "metadata": {},
   "source": [
    "Получите табличку, для которой верно следующее:\n",
    "    * city: `vienna` и `mansfield`\n",
    "    * duration (seconds) >= 1000\n",
    "\n",
    "Какие формы НЛО чаще всего встречались в этой табличке?\n",
    "\n",
    "Ваш ответ 2 слова:)"
   ]
  },
  {
   "cell_type": "markdown",
   "metadata": {},
   "source": [
    "## Тип графика №2 - histogram"
   ]
  },
  {
   "cell_type": "code",
   "execution_count": null,
   "metadata": {},
   "outputs": [],
   "source": [
    "# Можно также рисовать графики с определенным значением признака\n",
    "# Например, так:\n",
    "plt.hist(ufo_data['duration (seconds)'].values)\n",
    "plt.title(\"Гистограмма распределения\\nдлительности НЛО в секундах\")\n",
    "plt.xlabel(\"Длительность НЛО (в секундах)\")\n",
    "plt.ylabel(\"Количество НЛО с такой длительностью\")\n",
    "\n",
    "# для логарифмического масштаба по шкале y\n",
    "# можете проверить что будет, если эту строчку закомментировать\n",
    "plt.semilogy()\n",
    "plt.show()"
   ]
  },
  {
   "cell_type": "markdown",
   "metadata": {},
   "source": [
    "### DateTime"
   ]
  },
  {
   "cell_type": "code",
   "execution_count": null,
   "metadata": {},
   "outputs": [],
   "source": [
    "# Приводим дату и время к формату  pandas.datetime, чтобы было удобнее работать\n",
    "ufo_data['datetime'] = ufo_data.datetime.str.replace('24:00', '00:00')\n",
    "ufo_data['datetime'] = pd.to_datetime(ufo_data['datetime'], format='%m/%d/%Y %H:%M')"
   ]
  },
  {
   "cell_type": "markdown",
   "metadata": {},
   "source": [
    "# 1. Как меняется количество НЛО с годами?"
   ]
  },
  {
   "cell_type": "code",
   "execution_count": null,
   "metadata": {},
   "outputs": [],
   "source": [
    "ufo_yr = ufo_data['datetime'].dt.year  # так можно достать только год из даты\n",
    "\n",
    "years_data = ufo_yr.value_counts() # считаем сколько раз каждый год встретился\n",
    "years_index = years_data.index  # берем уникальные значения чтобы сделать подписи на шкале x\n",
    "years_values = years_data.values # берем значения подсчета"
   ]
  },
  {
   "cell_type": "markdown",
   "metadata": {},
   "source": [
    "## Тип графика №3 - bar plot"
   ]
  },
  {
   "cell_type": "code",
   "execution_count": null,
   "metadata": {},
   "outputs": [],
   "source": [
    "plt.figure(figsize=(13,4))\n",
    "plt.xticks(rotation = 60)\n",
    "plt.title('Распределение количества зафиксированных случаев НЛО по годам')\n",
    "\n",
    "years_plot = plt.bar(x=years_index, height=years_values, color = \"red\", )"
   ]
  },
  {
   "cell_type": "markdown",
   "metadata": {},
   "source": [
    "Данные прерываются на середине 2014 года"
   ]
  },
  {
   "cell_type": "markdown",
   "metadata": {},
   "source": [
    "# **2. География** - Где зафиксировано больше всего НЛО?\n"
   ]
  },
  {
   "cell_type": "markdown",
   "metadata": {},
   "source": [
    "## Тип графика №4 - pie chart"
   ]
  },
  {
   "cell_type": "code",
   "execution_count": null,
   "metadata": {},
   "outputs": [],
   "source": [
    "country_sightings = ufo_data.country.value_counts()  # num ufo sightings per country \n",
    "\n",
    "colors = ['lightblue','gold','yellowgreen','lightcoral','orange']\n",
    "country_sightings.plot(kind = 'pie', fontsize = 0, title='UFO Sightings by Country', colors=colors,\n",
    "                       autopct='%1.1f%%',shadow=True,figsize=(4,4))\n",
    "plt.legend(labels=['United States','Canada','United Kingdom','Australia'], loc=\"best\")\n",
    "plt.tight_layout()"
   ]
  },
  {
   "cell_type": "code",
   "execution_count": null,
   "metadata": {},
   "outputs": [],
   "source": [
    "country_sightings"
   ]
  },
  {
   "cell_type": "markdown",
   "metadata": {},
   "source": [
    "## Задание №4"
   ]
  },
  {
   "cell_type": "markdown",
   "metadata": {},
   "source": [
    "Видимо в представленных данных наибольшее количество НЛО приходится на США.\n",
    "\n",
    "**4.1** Хочется узнать, какие штаты самые популярные по количеству зафиксированных НЛО.\n",
    "Постройте подходящую визуализацию для ответа на этот вопрос.\n",
    "\n",
    "**4.2** Используйте данные о количестве населения в каждом штате, чтобы оценка популярности НЛО в штате была более честной -- нужно построить тот же график что и в первом пункте, но теперь он будет описывать количество случаев НЛО на душу населения."
   ]
  },
  {
   "cell_type": "code",
   "execution_count": null,
   "metadata": {},
   "outputs": [],
   "source": [
    "# 4.1 твой код тут # (つ▀¯▀)つ"
   ]
  },
  {
   "cell_type": "code",
   "execution_count": null,
   "metadata": {},
   "outputs": [],
   "source": [
    "# 4.2 \n",
    "\n",
    "# Данные о популяции населения в каждом штате\n",
    "statespop = {'al':4872725.,'ak':746079.,'az':7044577.,'ar':2998643.,'ca':39506094.,\n",
    "            'co':5632271.,'ct':3568174.,'de':960054.,'dc':691963.,'fl':20979964.,\n",
    "            'ga':10421344.,'hi':1431957.,'id':1713452.,'il':12764031.,'in':6653338.,\n",
    "            'ia':3147389.,'ks':2907857.,'ky':4449337.,'la':4694372.,'me':1333505.,\n",
    "            'md':6037911.,'ma':6839318.,'mi':9938885.,'mn':5557469.,'ms':2988062.,\n",
    "            'mo':6109796.,'mt':1052967.,'ne':1920467.,'nv':2996358,'nh':1339479.,\n",
    "            'nj':8953517.,'nm':2081702.,'ny':19743395.,'nc':10258390.,'nd':759069.,\n",
    "            'oh':11623656.,'ok':3939708.,'or':4162296.,'pa':12776550.,'pr':3661538.,\n",
    "            'ri':1057245.,'sc':5027404.,'sd':872989.,'tn':6707332.,'tx':28295553.,\n",
    "            'ut':3111802.,'vt':623100.,'va':8456029.,'wa':7415710.,'wv':1821151.,\n",
    "            'wi':5789525.,'wy':584447.} \n",
    "states_pop = pd.Series(statespop)\n",
    "states_pop[:5]"
   ]
  },
  {
   "cell_type": "markdown",
   "metadata": {},
   "source": [
    "# **3. Сезонность** - Какой самый популярный месяц для появления НЛО?"
   ]
  },
  {
   "cell_type": "code",
   "execution_count": null,
   "metadata": {},
   "outputs": [],
   "source": [
    "m_cts = (ufo_data['datetime'].dt.month.value_counts()).sort_index()\n",
    "m_ctsx = m_cts.index\n",
    "m_ctsy = m_cts.get_values()\n",
    "f, ax = plt.subplots(figsize=(7,3))\n",
    "\n",
    "# Чтобы были красивые цвета на картиночке можно еще так делать\n",
    "data_color = [x/max(m_ctsx) for x in m_ctsx]\n",
    "my_cmap = plt.cm.get_cmap('GnBu')\n",
    "colors = my_cmap(data_color)\n",
    "\n",
    "\n",
    "plt.bar(x=m_ctsx, height=m_ctsy, color=colors)\n",
    "ax.set_title('Количество появление НЛО по месяцам')\n",
    "ax.set_xlabel('Месяц')\n",
    "ax.set_ylabel('# НЛО')\n",
    "plt.xticks(rotation=45)\n",
    "plt.show()"
   ]
  },
  {
   "cell_type": "markdown",
   "metadata": {},
   "source": [
    "Лидирует 7-ой месяц, кажется это **июль**;\n",
    "\n",
    "Возможно это связано с тем, что в это время большая часть населения выбирается на природу?\n",
    "\n",
    "Можно проанализировать, какова закономерность отдельно для каждого полушария (ведь у нас есть данные о широте!).\n",
    "\n",
    "<img src=\"https://i.ytimg.com/vi/LtUb5tha9C0/maxresdefault.jpg\" width=400>"
   ]
  },
  {
   "cell_type": "markdown",
   "metadata": {},
   "source": [
    "## Задание №5\n",
    "\n",
    "Проанализируйте распределение количества наблюдений НЛО по месяцам отдельно для южного и северного полушария."
   ]
  }
 ],
 "metadata": {
  "kernelspec": {
   "display_name": "Python 3",
   "language": "python",
   "name": "python3"
  },
  "language_info": {
   "codemirror_mode": {
    "name": "ipython",
    "version": 3
   },
   "file_extension": ".py",
   "mimetype": "text/x-python",
   "name": "python",
   "nbconvert_exporter": "python",
   "pygments_lexer": "ipython3",
   "version": "3.6.3"
  }
 },
 "nbformat": 4,
 "nbformat_minor": 2
}
